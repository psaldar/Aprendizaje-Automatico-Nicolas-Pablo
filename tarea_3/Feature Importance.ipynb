{
 "cells": [
  {
   "cell_type": "markdown",
   "metadata": {},
   "source": [
    "# Importancia de las Variables"
   ]
  },
  {
   "cell_type": "code",
   "execution_count": 1,
   "metadata": {},
   "outputs": [],
   "source": [
    "import numpy as np\n",
    "import pandas as pd\n",
    "from random import randint"
   ]
  },
  {
   "cell_type": "code",
   "execution_count": 2,
   "metadata": {},
   "outputs": [],
   "source": [
    "data = pd.read_csv('data/feature_importance3.csv').drop(columns = 'Unnamed: 0')\n",
    "variables = data.columns"
   ]
  },
  {
   "cell_type": "code",
   "execution_count": 3,
   "metadata": {},
   "outputs": [],
   "source": [
    "res_left =[]\n",
    "res_right =[]\n",
    "\n",
    "for var in variables:\n",
    "    data_aux = data[var].values\n",
    "    res_left.append(np.percentile(data_aux,2.5))\n",
    "    res_right.append(np.percentile(data_aux,97.5))\n",
    "    \n",
    "feature_importance = pd.DataFrame({'lower_bound':res_left,\n",
    "                                   'upper_bound':res_right},\n",
    "                                    index = variables)"
   ]
  },
  {
   "cell_type": "code",
   "execution_count": 6,
   "metadata": {
    "scrolled": true
   },
   "outputs": [],
   "source": [
    "feature_importance.sort_values(by ='upper_bound', ascending = False).to_csv('data/feature_importance_interval.csv')"
   ]
  },
  {
   "cell_type": "code",
   "execution_count": 8,
   "metadata": {},
   "outputs": [
    {
     "data": {
      "text/plain": [
       "Index(['apparentTemperature', 'temperature', 'humidity_mean',\n",
       "       'temperature_mean', 'apparentTemperature_mean', 'humidity',\n",
       "       'dewPoint_mean', 'dewPoint', 'windSpeed_mean', 'windSpeed',\n",
       "       'cloudCover_mean', 'uvIndex', 'icon_partly-cloudy-night',\n",
       "       'poblado_LaAguacatala', 'visibility_mean', 'cloudCover', 'dia_sem_6',\n",
       "       'precipIntensity_mean', 'visibility', 'poblado_ElCastillo',\n",
       "       'icon_partly-cloudy-day', 'poblado_VillaCarlota', 'poblado_Astorga',\n",
       "       'precipIntensity', 'poblado_AltosdelPoblado', 'precipProbability',\n",
       "       'hora_7', 'poblado_LosBalsosNo1', 'poblado_ElDiamanteNo2',\n",
       "       'poblado_Manila', 'poblado_SantaMariadeLosÁngeles', 'poblado_Lalinde',\n",
       "       'hora_3', 'hora_0', 'hora_1', 'dia_sem_4', 'dia_sem_5', 'hora_2',\n",
       "       'poblado_ElPoblado', 'poblado_SanLucas', 'poblado_LasLomasNo2',\n",
       "       'dia_sem_1', 'dia_sem_2', 'poblado_BarrioColombia',\n",
       "       'poblado_LosBalsosNo2', 'hora_19', 'hora_4', 'dia_sem_3', 'dia_sem_0',\n",
       "       'hora_17', 'hora_6', 'icon_cloudy'],\n",
       "      dtype='object')"
      ]
     },
     "execution_count": 8,
     "metadata": {},
     "output_type": "execute_result"
    }
   ],
   "source": [
    "feature_importance.sort_values(by ='upper_bound', ascending = False)[feature_importance.sort_values(by ='upper_bound', ascending = False)['upper_bound']>0.0048].index"
   ]
  }
 ],
 "metadata": {
  "kernelspec": {
   "display_name": "Python 3",
   "language": "python",
   "name": "python3"
  },
  "language_info": {
   "codemirror_mode": {
    "name": "ipython",
    "version": 3
   },
   "file_extension": ".py",
   "mimetype": "text/x-python",
   "name": "python",
   "nbconvert_exporter": "python",
   "pygments_lexer": "ipython3",
   "version": "3.7.6"
  }
 },
 "nbformat": 4,
 "nbformat_minor": 4
}
