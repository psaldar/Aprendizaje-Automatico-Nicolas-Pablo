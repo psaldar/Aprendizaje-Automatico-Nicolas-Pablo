{
 "cells": [
  {
   "cell_type": "markdown",
   "metadata": {},
   "source": [
    "# Notebook para la tarea relacionada con el tema: Ingenieria de Descriptores"
   ]
  },
  {
   "cell_type": "markdown",
   "metadata": {},
   "source": [
    "Importacion de paquetes"
   ]
  },
  {
   "cell_type": "code",
   "execution_count": 1,
   "metadata": {},
   "outputs": [],
   "source": [
    "import sqlite3\n",
    "import pandas as pd\n",
    "import datetime as dt"
   ]
  },
  {
   "cell_type": "code",
   "execution_count": 2,
   "metadata": {},
   "outputs": [],
   "source": [
    "d_ini = dt.datetime(2017,1,1)\n",
    "d_fin = dt.datetime(2018,1,1)"
   ]
  },
  {
   "cell_type": "code",
   "execution_count": 3,
   "metadata": {},
   "outputs": [],
   "source": [
    "### importa la informacion de los accidentes\n",
    "accidentes = pd.read_csv('data/proc_accidentes_2017.csv')\n",
    "accidentes['TW'] = pd.to_datetime(accidentes['TW'])\n",
    "accidentes['Accidente'] = 1"
   ]
  },
  {
   "cell_type": "code",
   "execution_count": 4,
   "metadata": {},
   "outputs": [],
   "source": [
    "### importa la informacion\n",
    "db_name = \"data/clima.sqlite3\"\n",
    "conn = sqlite3.connect(db_name)\n",
    "query = f\"\"\"SELECT *\n",
    "            FROM clima\n",
    "            WHERE\n",
    "            TW >= '{d_ini}' AND\n",
    "            TW <= '{d_fin}' \"\"\"\n",
    "\n",
    "info_clima = pd.read_sql_query(query,conn)\n",
    "info_clima['TW'] = pd.to_datetime(info_clima['TW'])\n",
    "\n",
    "to_drop = ['summary','windBearing']\n",
    "info_clima = info_clima.drop(columns = to_drop)"
   ]
  },
  {
   "cell_type": "code",
   "execution_count": 10,
   "metadata": {},
   "outputs": [
    {
     "data": {
      "text/plain": [
       "['TW',\n",
       " 'BARRIO',\n",
       " 'summary',\n",
       " 'icon',\n",
       " 'precipIntensity',\n",
       " 'precipProbability',\n",
       " 'temperature',\n",
       " 'apparentTemperature',\n",
       " 'dewPoint',\n",
       " 'humidity',\n",
       " 'windSpeed',\n",
       " 'windBearing',\n",
       " 'cloudCover',\n",
       " 'uvIndex',\n",
       " 'visibility']"
      ]
     },
     "execution_count": 10,
     "metadata": {},
     "output_type": "execute_result"
    }
   ],
   "source": [
    "list(info_clima.columns)"
   ]
  },
  {
   "cell_type": "code",
   "execution_count": 175,
   "metadata": {
    "scrolled": true
   },
   "outputs": [
    {
     "name": "stdout",
     "output_type": "stream",
     "text": [
      "procesando 1 de 312\n",
      "procesando 2 de 312\n",
      "procesando 3 de 312\n",
      "procesando 4 de 312\n",
      "procesando 5 de 312\n",
      "procesando 6 de 312\n",
      "procesando 7 de 312\n",
      "procesando 8 de 312\n",
      "procesando 9 de 312\n",
      "procesando 10 de 312\n",
      "procesando 11 de 312\n",
      "procesando 12 de 312\n",
      "procesando 13 de 312\n",
      "procesando 14 de 312\n",
      "procesando 15 de 312\n",
      "procesando 16 de 312\n",
      "procesando 17 de 312\n",
      "procesando 18 de 312\n",
      "procesando 19 de 312\n",
      "procesando 20 de 312\n",
      "procesando 21 de 312\n",
      "procesando 22 de 312\n",
      "procesando 23 de 312\n",
      "procesando 24 de 312\n",
      "procesando 25 de 312\n",
      "procesando 26 de 312\n",
      "procesando 27 de 312\n",
      "procesando 28 de 312\n",
      "procesando 29 de 312\n",
      "procesando 30 de 312\n",
      "procesando 31 de 312\n",
      "procesando 32 de 312\n",
      "procesando 33 de 312\n",
      "procesando 34 de 312\n",
      "procesando 35 de 312\n",
      "procesando 36 de 312\n",
      "procesando 37 de 312\n",
      "procesando 38 de 312\n",
      "procesando 39 de 312\n",
      "procesando 40 de 312\n",
      "procesando 41 de 312\n",
      "procesando 42 de 312\n",
      "procesando 43 de 312\n",
      "procesando 44 de 312\n",
      "procesando 45 de 312\n",
      "procesando 46 de 312\n",
      "procesando 47 de 312\n",
      "procesando 48 de 312\n",
      "procesando 49 de 312\n",
      "procesando 50 de 312\n",
      "procesando 51 de 312\n",
      "procesando 52 de 312\n",
      "procesando 53 de 312\n",
      "procesando 54 de 312\n",
      "procesando 55 de 312\n",
      "procesando 56 de 312\n",
      "procesando 57 de 312\n",
      "procesando 58 de 312\n",
      "procesando 59 de 312\n",
      "procesando 60 de 312\n",
      "procesando 61 de 312\n",
      "procesando 62 de 312\n",
      "procesando 63 de 312\n",
      "procesando 64 de 312\n",
      "procesando 65 de 312\n",
      "procesando 66 de 312\n",
      "procesando 67 de 312\n",
      "procesando 68 de 312\n",
      "procesando 69 de 312\n",
      "procesando 70 de 312\n",
      "procesando 71 de 312\n",
      "procesando 72 de 312\n",
      "procesando 73 de 312\n",
      "procesando 74 de 312\n",
      "procesando 75 de 312\n",
      "procesando 76 de 312\n",
      "procesando 77 de 312\n",
      "procesando 78 de 312\n",
      "procesando 79 de 312\n",
      "procesando 80 de 312\n",
      "procesando 81 de 312\n",
      "procesando 82 de 312\n",
      "procesando 83 de 312\n",
      "procesando 84 de 312\n",
      "procesando 85 de 312\n",
      "procesando 86 de 312\n",
      "procesando 87 de 312\n",
      "procesando 88 de 312\n",
      "procesando 89 de 312\n",
      "procesando 90 de 312\n",
      "procesando 91 de 312\n",
      "procesando 92 de 312\n",
      "procesando 93 de 312\n",
      "procesando 94 de 312\n",
      "procesando 95 de 312\n",
      "procesando 96 de 312\n",
      "procesando 97 de 312\n",
      "procesando 98 de 312\n",
      "procesando 99 de 312\n",
      "procesando 100 de 312\n",
      "procesando 101 de 312\n",
      "procesando 102 de 312\n",
      "procesando 103 de 312\n",
      "procesando 104 de 312\n",
      "procesando 105 de 312\n",
      "procesando 106 de 312\n",
      "procesando 107 de 312\n",
      "procesando 108 de 312\n",
      "procesando 109 de 312\n",
      "procesando 110 de 312\n",
      "procesando 111 de 312\n",
      "procesando 112 de 312\n",
      "procesando 113 de 312\n",
      "procesando 114 de 312\n",
      "procesando 115 de 312\n",
      "procesando 116 de 312\n",
      "procesando 117 de 312\n",
      "procesando 118 de 312\n",
      "procesando 119 de 312\n",
      "procesando 120 de 312\n",
      "procesando 121 de 312\n",
      "procesando 122 de 312\n",
      "procesando 123 de 312\n",
      "procesando 124 de 312\n",
      "procesando 125 de 312\n",
      "procesando 126 de 312\n",
      "procesando 127 de 312\n",
      "procesando 128 de 312\n",
      "procesando 129 de 312\n",
      "procesando 130 de 312\n",
      "procesando 131 de 312\n",
      "procesando 132 de 312\n",
      "procesando 133 de 312\n",
      "procesando 134 de 312\n",
      "procesando 135 de 312\n",
      "procesando 136 de 312\n",
      "procesando 137 de 312\n",
      "procesando 138 de 312\n",
      "procesando 139 de 312\n",
      "procesando 140 de 312\n",
      "procesando 141 de 312\n",
      "procesando 142 de 312\n",
      "procesando 143 de 312\n",
      "procesando 144 de 312\n",
      "procesando 145 de 312\n",
      "procesando 146 de 312\n",
      "procesando 147 de 312\n",
      "procesando 148 de 312\n",
      "procesando 149 de 312\n",
      "procesando 150 de 312\n",
      "procesando 151 de 312\n",
      "procesando 152 de 312\n",
      "procesando 153 de 312\n",
      "procesando 154 de 312\n",
      "procesando 155 de 312\n",
      "procesando 156 de 312\n",
      "procesando 157 de 312\n",
      "procesando 158 de 312\n",
      "procesando 159 de 312\n",
      "procesando 160 de 312\n",
      "procesando 161 de 312\n",
      "procesando 162 de 312\n",
      "procesando 163 de 312\n",
      "procesando 164 de 312\n",
      "procesando 165 de 312\n",
      "procesando 166 de 312\n",
      "procesando 167 de 312\n",
      "procesando 168 de 312\n",
      "procesando 169 de 312\n",
      "procesando 170 de 312\n",
      "procesando 171 de 312\n",
      "procesando 172 de 312\n",
      "procesando 173 de 312\n",
      "procesando 174 de 312\n",
      "procesando 175 de 312\n",
      "procesando 176 de 312\n",
      "procesando 177 de 312\n",
      "procesando 178 de 312\n",
      "procesando 179 de 312\n",
      "procesando 180 de 312\n",
      "procesando 181 de 312\n",
      "procesando 182 de 312\n",
      "procesando 183 de 312\n",
      "procesando 184 de 312\n",
      "procesando 185 de 312\n",
      "procesando 186 de 312\n",
      "procesando 187 de 312\n",
      "procesando 188 de 312\n",
      "procesando 189 de 312\n",
      "procesando 190 de 312\n",
      "procesando 191 de 312\n",
      "procesando 192 de 312\n",
      "procesando 193 de 312\n",
      "procesando 194 de 312\n",
      "procesando 195 de 312\n",
      "procesando 196 de 312\n",
      "procesando 197 de 312\n",
      "procesando 198 de 312\n",
      "procesando 199 de 312\n",
      "procesando 200 de 312\n",
      "procesando 201 de 312\n",
      "procesando 202 de 312\n",
      "procesando 203 de 312\n",
      "procesando 204 de 312\n",
      "procesando 205 de 312\n",
      "procesando 206 de 312\n",
      "procesando 207 de 312\n",
      "procesando 208 de 312\n",
      "procesando 209 de 312\n",
      "procesando 210 de 312\n",
      "procesando 211 de 312\n",
      "procesando 212 de 312\n",
      "procesando 213 de 312\n",
      "procesando 214 de 312\n",
      "procesando 215 de 312\n",
      "procesando 216 de 312\n",
      "procesando 217 de 312\n",
      "procesando 218 de 312\n",
      "procesando 219 de 312\n",
      "procesando 220 de 312\n",
      "procesando 221 de 312\n",
      "procesando 222 de 312\n",
      "procesando 223 de 312\n",
      "procesando 224 de 312\n",
      "procesando 225 de 312\n",
      "procesando 226 de 312\n",
      "procesando 227 de 312\n",
      "procesando 228 de 312\n",
      "procesando 229 de 312\n",
      "procesando 230 de 312\n",
      "procesando 231 de 312\n",
      "procesando 232 de 312\n",
      "procesando 233 de 312\n",
      "procesando 234 de 312\n",
      "procesando 235 de 312\n",
      "procesando 236 de 312\n",
      "procesando 237 de 312\n",
      "procesando 238 de 312\n",
      "procesando 239 de 312\n",
      "procesando 240 de 312\n",
      "procesando 241 de 312\n",
      "procesando 242 de 312\n",
      "procesando 243 de 312\n",
      "procesando 244 de 312\n",
      "procesando 245 de 312\n",
      "procesando 246 de 312\n",
      "procesando 247 de 312\n",
      "procesando 248 de 312\n",
      "procesando 249 de 312\n",
      "procesando 250 de 312\n",
      "procesando 251 de 312\n",
      "procesando 252 de 312\n",
      "procesando 253 de 312\n",
      "procesando 254 de 312\n",
      "procesando 255 de 312\n",
      "procesando 256 de 312\n",
      "procesando 257 de 312\n",
      "procesando 258 de 312\n",
      "procesando 259 de 312\n",
      "procesando 260 de 312\n",
      "procesando 261 de 312\n",
      "procesando 262 de 312\n",
      "procesando 263 de 312\n",
      "procesando 264 de 312\n",
      "procesando 265 de 312\n",
      "procesando 266 de 312\n",
      "procesando 267 de 312\n",
      "procesando 268 de 312\n",
      "procesando 269 de 312\n",
      "procesando 270 de 312\n",
      "procesando 271 de 312\n",
      "procesando 272 de 312\n",
      "procesando 273 de 312\n",
      "procesando 274 de 312\n",
      "procesando 275 de 312\n",
      "procesando 276 de 312\n",
      "procesando 277 de 312\n",
      "procesando 278 de 312\n",
      "procesando 279 de 312\n",
      "procesando 280 de 312\n",
      "procesando 281 de 312\n",
      "procesando 282 de 312\n",
      "procesando 283 de 312\n",
      "procesando 284 de 312\n",
      "procesando 285 de 312\n",
      "procesando 286 de 312\n",
      "procesando 287 de 312\n",
      "procesando 288 de 312\n",
      "procesando 289 de 312\n",
      "procesando 290 de 312\n",
      "procesando 291 de 312\n",
      "procesando 292 de 312\n",
      "procesando 293 de 312\n",
      "procesando 294 de 312\n",
      "procesando 295 de 312\n",
      "procesando 296 de 312\n",
      "procesando 297 de 312\n",
      "procesando 298 de 312\n",
      "procesando 299 de 312\n",
      "procesando 300 de 312\n",
      "procesando 301 de 312\n",
      "procesando 302 de 312\n",
      "procesando 303 de 312\n",
      "procesando 304 de 312\n",
      "procesando 305 de 312\n",
      "procesando 306 de 312\n",
      "procesando 307 de 312\n",
      "procesando 308 de 312\n",
      "procesando 309 de 312\n",
      "procesando 310 de 312\n",
      "procesando 311 de 312\n",
      "procesando 312 de 312\n"
     ]
    }
   ],
   "source": [
    "### Procesamos y guardamos la data procesada\n",
    "### Completamos la informacion faltante de la serie para cada barrio\n",
    "### con el promedio de las 10 horas antes y de las proximas 10 horas\n",
    "database_name = 'data/info_clima.sqlite3'\n",
    "connection = sqlite3.connect(database_name)\n",
    "\n",
    "cont = 0\n",
    "vars = ['precipIntensity','precipProbability']\n",
    "barrios = info_clima['BARRIO'].unique()\n",
    "for barrio in barrios:\n",
    "    cont = cont + 1\n",
    "    print(f'procesando {cont} de {len(barrios)}')\n",
    "    info_aux = info_clima[info_clima['BARRIO']==barrio].reset_index(drop = True)\n",
    "    nan_vars = info_aux.isna().sum()[info_aux.isna().sum()>0].reset_index()['index'].values\n",
    "    info_aux.index = info_aux.TW\n",
    "    \n",
    "    for var in nan_vars:\n",
    "        nan_times = info_aux['TW'][info_aux[var].isna()].values\n",
    "        for time in nan_times:\n",
    "            time = pd.to_datetime(time)\n",
    "            date_ini = time - dt.timedelta(hours = 10)\n",
    "            date_fin = time + dt.timedelta(hours = 10)\n",
    "            \n",
    "            if var == 'icon':\n",
    "                aux = info_aux[var][(info_aux['TW']>= date_ini) &(info_aux['TW']<= date_fin)].reset_index().groupby('icon').count().reset_index()\n",
    "                value = aux['icon'][aux['TW']==aux['TW'].max()].values[0]\n",
    "            else:    \n",
    "                value = info_aux[var][(info_aux['TW']>= date_ini) &(info_aux['TW']<= date_fin)].mean()\n",
    "            \n",
    "            info_aux.loc[time,var] = value\n",
    "            \n",
    "            \n",
    "    info_aux = info_aux.reset_index(drop = True)\n",
    "    info_aux.to_sql('clima',connection, if_exists = 'append', index = False)"
   ]
  },
  {
   "cell_type": "code",
   "execution_count": 176,
   "metadata": {},
   "outputs": [],
   "source": [
    "query = f\"\"\"SELECT *\n",
    "            FROM clima\n",
    "            WHERE\n",
    "            TW >= '{d_ini}' AND\n",
    "            TW <= '{d_fin}' \"\"\"\n",
    "\n",
    "info_clima2 = pd.read_sql_query(query,connection)\n",
    "info_clima2['TW'] = pd.to_datetime(info_clima2['TW'])"
   ]
  },
  {
   "cell_type": "code",
   "execution_count": 179,
   "metadata": {},
   "outputs": [],
   "source": [
    "data = info_clima2.merge(accidentes[['TW','BARRIO','Accidente']], how = 'left', on = ['TW','BARRIO'])\n",
    "data['Accidente'] = data['Accidente'].fillna(0)"
   ]
  },
  {
   "cell_type": "code",
   "execution_count": 180,
   "metadata": {},
   "outputs": [
    {
     "data": {
      "text/plain": [
       "(2733120, 14)"
      ]
     },
     "execution_count": 180,
     "metadata": {},
     "output_type": "execute_result"
    }
   ],
   "source": [
    "data.shape"
   ]
  },
  {
   "cell_type": "code",
   "execution_count": 181,
   "metadata": {},
   "outputs": [
    {
     "data": {
      "text/plain": [
       "(2733120, 13)"
      ]
     },
     "execution_count": 181,
     "metadata": {},
     "output_type": "execute_result"
    }
   ],
   "source": [
    "info_clima2.shape"
   ]
  },
  {
   "cell_type": "code",
   "execution_count": 182,
   "metadata": {},
   "outputs": [
    {
     "data": {
      "text/plain": [
       "TW                     0\n",
       "BARRIO                 0\n",
       "icon                   0\n",
       "precipIntensity        0\n",
       "precipProbability      0\n",
       "temperature            0\n",
       "apparentTemperature    0\n",
       "dewPoint               0\n",
       "humidity               0\n",
       "windSpeed              0\n",
       "cloudCover             0\n",
       "uvIndex                0\n",
       "visibility             0\n",
       "Accidente              0\n",
       "dtype: int64"
      ]
     },
     "execution_count": 182,
     "metadata": {},
     "output_type": "execute_result"
    }
   ],
   "source": [
    "data.isna().sum()"
   ]
  },
  {
   "cell_type": "code",
   "execution_count": 183,
   "metadata": {},
   "outputs": [
    {
     "name": "stderr",
     "output_type": "stream",
     "text": [
      "C:\\Users\\pasal\\Anaconda3\\envs\\ciencia-datos\\lib\\site-packages\\ipykernel_launcher.py:1: FutureWarning: DataFrame.ftypes is deprecated and will be removed in a future version. Use DataFrame.dtypes instead.\n",
      "  \"\"\"Entry point for launching an IPython kernel.\n"
     ]
    },
    {
     "data": {
      "text/plain": [
       "TW                     datetime64[ns]:dense\n",
       "BARRIO                         object:dense\n",
       "icon                           object:dense\n",
       "precipIntensity               float64:dense\n",
       "precipProbability             float64:dense\n",
       "temperature                   float64:dense\n",
       "apparentTemperature           float64:dense\n",
       "dewPoint                      float64:dense\n",
       "humidity                      float64:dense\n",
       "windSpeed                     float64:dense\n",
       "cloudCover                    float64:dense\n",
       "uvIndex                       float64:dense\n",
       "visibility                    float64:dense\n",
       "Accidente                     float64:dense\n",
       "dtype: object"
      ]
     },
     "execution_count": 183,
     "metadata": {},
     "output_type": "execute_result"
    }
   ],
   "source": [
    "data.ftypes"
   ]
  },
  {
   "cell_type": "code",
   "execution_count": 184,
   "metadata": {},
   "outputs": [
    {
     "data": {
      "text/plain": [
       "1.496604613042969"
      ]
     },
     "execution_count": 184,
     "metadata": {},
     "output_type": "execute_result"
    }
   ],
   "source": [
    "100*data['Accidente'].sum()/len(data)"
   ]
  }
 ],
 "metadata": {
  "kernelspec": {
   "display_name": "Python 3",
   "language": "python",
   "name": "python3"
  },
  "language_info": {
   "codemirror_mode": {
    "name": "ipython",
    "version": 3
   },
   "file_extension": ".py",
   "mimetype": "text/x-python",
   "name": "python",
   "nbconvert_exporter": "python",
   "pygments_lexer": "ipython3",
   "version": "3.7.3"
  }
 },
 "nbformat": 4,
 "nbformat_minor": 2
}
