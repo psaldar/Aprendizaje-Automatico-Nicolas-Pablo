{
 "cells": [
  {
   "cell_type": "markdown",
   "metadata": {},
   "source": [
    "# Notebook para la tarea relacionada con el tema: Ingenieria de Descriptores"
   ]
  },
  {
   "cell_type": "markdown",
   "metadata": {},
   "source": [
    "Importacion de paquetes"
   ]
  },
  {
   "cell_type": "code",
   "execution_count": 9,
   "metadata": {},
   "outputs": [],
   "source": [
    "import sqlite3\n",
    "import pandas as pd\n",
    "import datetime as dt"
   ]
  },
  {
   "cell_type": "code",
   "execution_count": 10,
   "metadata": {},
   "outputs": [],
   "source": [
    "d_ini = dt.datetime(2017,1,1)\n",
    "d_fin = dt.datetime(2018,1,1)"
   ]
  },
  {
   "cell_type": "code",
   "execution_count": 31,
   "metadata": {},
   "outputs": [],
   "source": [
    "### importa la informacion de los accidentes\n",
    "accidentes = pd.read_csv('data/proc_accidentes_2017.csv')\n",
    "accidentes['TW'] = pd.to_datetime(accidentes['TW'])\n",
    "accidentes['Accidente'] = 1"
   ]
  },
  {
   "cell_type": "code",
   "execution_count": 24,
   "metadata": {},
   "outputs": [],
   "source": [
    "### importa la informacion\n",
    "db_name = \"data/clima.sqlite3\"\n",
    "conn = sqlite3.connect(db_name)\n",
    "query = f\"\"\"SELECT *\n",
    "            FROM clima\n",
    "            WHERE\n",
    "            TW >= '{d_ini}' AND\n",
    "            TW <= '{d_fin}' \"\"\"\n",
    "\n",
    "info_clima = pd.read_sql_query(query,conn)\n",
    "info_clima['TW'] = pd.to_datetime(info_clima['TW'])"
   ]
  },
  {
   "cell_type": "code",
   "execution_count": 19,
   "metadata": {},
   "outputs": [
    {
     "data": {
      "text/plain": [
       "['TW',\n",
       " 'BARRIO',\n",
       " 'summary',\n",
       " 'icon',\n",
       " 'precipIntensity',\n",
       " 'precipProbability',\n",
       " 'temperature',\n",
       " 'apparentTemperature',\n",
       " 'dewPoint',\n",
       " 'humidity',\n",
       " 'windSpeed',\n",
       " 'windBearing',\n",
       " 'cloudCover',\n",
       " 'uvIndex',\n",
       " 'visibility']"
      ]
     },
     "execution_count": 19,
     "metadata": {},
     "output_type": "execute_result"
    }
   ],
   "source": [
    "list(info_clima.columns)"
   ]
  },
  {
   "cell_type": "code",
   "execution_count": 35,
   "metadata": {},
   "outputs": [],
   "source": [
    "data = info_clima.merge(accidentes[['TW','BARRIO','Accidente']], how = 'left', on = ['TW','BARRIO'])\n",
    "data['Accidente'] = data['Accidente'].fillna(0)"
   ]
  },
  {
   "cell_type": "code",
   "execution_count": 33,
   "metadata": {},
   "outputs": [
    {
     "data": {
      "text/plain": [
       "(2733120, 16)"
      ]
     },
     "execution_count": 33,
     "metadata": {},
     "output_type": "execute_result"
    }
   ],
   "source": [
    "data.shape"
   ]
  },
  {
   "cell_type": "code",
   "execution_count": 34,
   "metadata": {},
   "outputs": [
    {
     "data": {
      "text/plain": [
       "(2733120, 15)"
      ]
     },
     "execution_count": 34,
     "metadata": {},
     "output_type": "execute_result"
    }
   ],
   "source": [
    "info_clima.shape"
   ]
  },
  {
   "cell_type": "code",
   "execution_count": 37,
   "metadata": {},
   "outputs": [
    {
     "data": {
      "text/plain": [
       "TW                          0\n",
       "BARRIO                      0\n",
       "summary                  4680\n",
       "icon                     4680\n",
       "precipIntensity          3432\n",
       "precipProbability        3432\n",
       "temperature                 0\n",
       "apparentTemperature         0\n",
       "dewPoint                    0\n",
       "humidity                    0\n",
       "windSpeed                   0\n",
       "windBearing            840416\n",
       "cloudCover               1248\n",
       "uvIndex                   624\n",
       "visibility               1248\n",
       "Accidente                   0\n",
       "dtype: int64"
      ]
     },
     "execution_count": 37,
     "metadata": {},
     "output_type": "execute_result"
    }
   ],
   "source": [
    "data.isna().sum()"
   ]
  },
  {
   "cell_type": "code",
   "execution_count": 38,
   "metadata": {},
   "outputs": [
    {
     "name": "stderr",
     "output_type": "stream",
     "text": [
      "C:\\Users\\pasal\\Anaconda3\\envs\\ciencia-datos\\lib\\site-packages\\ipykernel_launcher.py:1: FutureWarning: DataFrame.ftypes is deprecated and will be removed in a future version. Use DataFrame.dtypes instead.\n",
      "  \"\"\"Entry point for launching an IPython kernel.\n"
     ]
    },
    {
     "data": {
      "text/plain": [
       "TW                     datetime64[ns]:dense\n",
       "BARRIO                         object:dense\n",
       "summary                        object:dense\n",
       "icon                           object:dense\n",
       "precipIntensity               float64:dense\n",
       "precipProbability             float64:dense\n",
       "temperature                   float64:dense\n",
       "apparentTemperature           float64:dense\n",
       "dewPoint                      float64:dense\n",
       "humidity                      float64:dense\n",
       "windSpeed                     float64:dense\n",
       "windBearing                   float64:dense\n",
       "cloudCover                    float64:dense\n",
       "uvIndex                       float64:dense\n",
       "visibility                    float64:dense\n",
       "Accidente                     float64:dense\n",
       "dtype: object"
      ]
     },
     "execution_count": 38,
     "metadata": {},
     "output_type": "execute_result"
    }
   ],
   "source": [
    "data.ftypes"
   ]
  },
  {
   "cell_type": "code",
   "execution_count": 39,
   "metadata": {},
   "outputs": [
    {
     "data": {
      "text/plain": [
       "1.496604613042969"
      ]
     },
     "execution_count": 39,
     "metadata": {},
     "output_type": "execute_result"
    }
   ],
   "source": [
    "100*data['Accidente'].sum()/len(data)"
   ]
  }
 ],
 "metadata": {
  "kernelspec": {
   "display_name": "Python 3",
   "language": "python",
   "name": "python3"
  },
  "language_info": {
   "codemirror_mode": {
    "name": "ipython",
    "version": 3
   },
   "file_extension": ".py",
   "mimetype": "text/x-python",
   "name": "python",
   "nbconvert_exporter": "python",
   "pygments_lexer": "ipython3",
   "version": "3.7.3"
  }
 },
 "nbformat": 4,
 "nbformat_minor": 2
}
